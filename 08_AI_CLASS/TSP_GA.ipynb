{
 "cells": [
  {
   "cell_type": "code",
   "execution_count": 1,
   "metadata": {},
   "outputs": [],
   "source": [
    "import random"
   ]
  },
  {
   "cell_type": "code",
   "execution_count": 98,
   "metadata": {},
   "outputs": [],
   "source": [
    "Graph = {\n",
    "    \"Oradea\":[(\"Zerind\",71),(\"Sibiu\",151)],\n",
    "    \"Zerind\":[(\"Oradea\",71),(\"Arad\",75)],\n",
    "    \"Arad\":[(\"Zerind\",75),(\"Sibiu\",140),(\"Timisoara\",\"118\")],\n",
    "    \"Sibiu\":[(\"Arad\",140),(\"Oradea\",151),(\"Fagaras\",99),(\"Rimnicu\",80)],\n",
    "    \"Fagaras\":[(\"Sibiu\",99),(\"Bucharest\",211)],\n",
    "    \"Rimnicu\":[(\"Sibiu\",80),(\"Pitesti\",97),(\"Craiova\",146)],\n",
    "    \"Pitesti\":[(\"Rimnicu\",97),(\"Craiova\",138),(\"Bucharest\",101)],\n",
    "    \"Craiova\":[(\"Rimnicu\",146),(\"Pitesti\",138)],\n",
    "    \"Timisoara\":[(\"Arad\",118),(\"Lugoj\",111)],\n",
    "    \"Lugoj\":[(\"Timisoara\",111),(\"Mehadia\",70)],\n",
    "    \"Mehadia\":[(\"Lugoj\",70),(\"Dobreta\",75)],\n",
    "    \"Dobreta\":[(\"Mehadia\",75),(\"Craiova\",120)],\n",
    "    \"Bucharest\":[(\"Pitesti\",101),(\"Faragas\",211)]\n",
    "}"
   ]
  },
  {
   "cell_type": "code",
   "execution_count": 100,
   "metadata": {
    "scrolled": true
   },
   "outputs": [
    {
     "data": {
      "text/plain": [
       "13"
      ]
     },
     "execution_count": 100,
     "metadata": {},
     "output_type": "execute_result"
    }
   ],
   "source": [
    "len(Graph.keys())"
   ]
  },
  {
   "cell_type": "code",
   "execution_count": 101,
   "metadata": {
    "scrolled": true
   },
   "outputs": [
    {
     "data": {
      "text/plain": [
       "[1000000000, 155, 132, 158, 1000000000, 70, 70, 97]"
      ]
     },
     "execution_count": 101,
     "metadata": {},
     "output_type": "execute_result"
    }
   ],
   "source": [
    "INF = int(1e9)\n",
    "graph = [\n",
    "    [],\n",
    "    [INF,INF,120,105,155,90,110,85], #1 85\n",
    "    [INF,120,INF,147,132,100,80,88],  #2 88\n",
    "    [INF,105,147,INF,158,80,85,94],   #3 94\n",
    "    [INF,155,132,158,INF,70,70,97],   #4 97\n",
    "    [INF,90,100,80,70,INF,60,102],     #5 102\n",
    "    [INF,110,80,85,70,60,INF,112],      #6 112\n",
    "    [INF,85,88,94,97,102,112,INF]\n",
    "]\n",
    "graph[4]"
   ]
  },
  {
   "cell_type": "code",
   "execution_count": 88,
   "metadata": {},
   "outputs": [
    {
     "data": {
      "text/plain": [
       "[[],\n",
       " [(2, 120), (3, 105), (4, 155)],\n",
       " [(1, 120), (3, 147), (4, 132)],\n",
       " [(1, 105), (2, 147), (4, 158)],\n",
       " [(1, 155), (2, 132), (3, 158)]]"
      ]
     },
     "execution_count": 88,
     "metadata": {},
     "output_type": "execute_result"
    }
   ],
   "source": [
    "def for_dij(graph):\n",
    "    Graph = []\n",
    "    for i in range(len(graph)):\n",
    "        if graph[i] == False:\n",
    "            Graph.append([])\n",
    "        else:\n",
    "            temp = []\n",
    "            for k in range(len(graph[i])):\n",
    "                if graph[i][k] != INF:\n",
    "                    temp.append((k,graph[i][k]))\n",
    "            Graph.append(temp)\n",
    "    return Graph\n",
    "\n",
    "g = for_dij(graph)\n",
    "g  "
   ]
  },
  {
   "cell_type": "code",
   "execution_count": 89,
   "metadata": {},
   "outputs": [
    {
     "data": {
      "text/plain": [
       "[1000000000, 0, 120, 105, 155]"
      ]
     },
     "execution_count": 89,
     "metadata": {},
     "output_type": "execute_result"
    }
   ],
   "source": [
    "from heapq import heappush, heappop\n",
    "\n",
    "Graph = for_dij(graph)\n",
    "\n",
    "def dijkstra(start):\n",
    "    distance, queue = [INF]*len(graph), []\n",
    "    distance[start] = 0\n",
    "    heappush(queue,[0,start])\n",
    "    while queue:\n",
    "        cost, pos = heappop(queue)\n",
    "        for p,c in Graph[pos]:\n",
    "            c += cost\n",
    "            if distance[p] > c:\n",
    "                distance[p] = c\n",
    "                heappush(queue,[c,p])\n",
    "    return distance\n",
    "dijkstra(1)"
   ]
  },
  {
   "cell_type": "code",
   "execution_count": 117,
   "metadata": {},
   "outputs": [
    {
     "data": {
      "text/plain": [
       "[[1, 7, 4, 5, 3, 6, 2],\n",
       " [5, 1, 3, 6, 4, 7, 2],\n",
       " [4, 7, 6, 2, 5, 3, 1],\n",
       " [6, 1, 5, 4, 3, 2, 7],\n",
       " [6, 4, 5, 7, 2, 1, 3],\n",
       " [1, 2, 5, 6, 3, 7, 4],\n",
       " [7, 2, 5, 4, 1, 3, 6],\n",
       " [4, 7, 1, 3, 5, 6, 2],\n",
       " [1, 6, 3, 5, 4, 7, 2],\n",
       " [1, 2, 4, 7, 6, 5, 3]]"
      ]
     },
     "execution_count": 117,
     "metadata": {},
     "output_type": "execute_result"
    }
   ],
   "source": [
    "import copy\n",
    "def generate_1():\n",
    "    temp = [1,2,3,4,5,6,7]\n",
    "    random.shuffle(temp)\n",
    "    return temp\n",
    "\n",
    "def generate_population(size):\n",
    "    pops = []\n",
    "    for i in range(size):\n",
    "        visit = []\n",
    "        #temp = copy.deepcopy([1,2,3,4,5,6])\n",
    "        temp = [1,2,3,4,5,6,7]\n",
    "        for j in range(len(temp)):\n",
    "            visit.append(temp.pop(temp.index(random.choice(temp))))\n",
    "        pops.append(visit)\n",
    "    return pops\n",
    "v = generate_population(10)\n",
    "v"
   ]
  },
  {
   "cell_type": "code",
   "execution_count": 103,
   "metadata": {
    "scrolled": true
   },
   "outputs": [
    {
     "name": "stdout",
     "output_type": "stream",
     "text": [
      "([3, 1, 2, 4, 6, 5, 7], 589)\n",
      "([6, 3, 4, 2, 7, 1, 5], 638)\n",
      "([1, 5, 2, 6, 7, 3, 4], 634)\n",
      "([6, 3, 1, 7, 4, 2, 5], 604)\n",
      "([6, 2, 4, 7, 5, 3, 1], 596)\n",
      "([7, 6, 3, 5, 4, 2, 1], 599)\n",
      "([4, 1, 7, 3, 2, 5, 6], 641)\n",
      "([6, 1, 2, 3, 7, 5, 4], 643)\n",
      "([7, 1, 4, 5, 3, 2, 6], 617)\n",
      "([3, 6, 4, 5, 2, 7, 1], 498)\n"
     ]
    }
   ],
   "source": [
    "def fitness(route):\n",
    "    fit_route = []\n",
    "    for r in route:\n",
    "        dist = 0\n",
    "        for i in range(len(r)-1):\n",
    "            dist += graph[r[i]][r[i+1]]\n",
    "            #print(r,graph[r[i]][r[i+1]])\n",
    "        fit_route.append((r,dist))\n",
    "    return fit_route\n",
    "a = fitness(v)\n",
    "for i in a:\n",
    "    print(i)"
   ]
  },
  {
   "cell_type": "code",
   "execution_count": 104,
   "metadata": {},
   "outputs": [
    {
     "data": {
      "text/plain": [
       "[([3, 6, 4, 5, 2, 7, 1], 498),\n",
       " ([3, 1, 2, 4, 6, 5, 7], 589),\n",
       " ([6, 2, 4, 7, 5, 3, 1], 596),\n",
       " ([7, 6, 3, 5, 4, 2, 1], 599),\n",
       " ([6, 3, 1, 7, 4, 2, 5], 604),\n",
       " ([7, 1, 4, 5, 3, 2, 6], 617),\n",
       " ([1, 5, 2, 6, 7, 3, 4], 634),\n",
       " ([6, 3, 4, 2, 7, 1, 5], 638),\n",
       " ([4, 1, 7, 3, 2, 5, 6], 641),\n",
       " ([6, 1, 2, 3, 7, 5, 4], 643)]"
      ]
     },
     "execution_count": 104,
     "metadata": {},
     "output_type": "execute_result"
    }
   ],
   "source": [
    "def compute_performance(population):\n",
    "    performance_list = []\n",
    "    performance_list = fitness(population)\n",
    "    population_sorted = sorted(performance_list, key=lambda x:x[1])\n",
    "    N=0\n",
    "    for m,n in population_sorted:\n",
    "        N += n\n",
    "    return population_sorted,N//len(population)\n",
    "p_s,N = compute_performance(v)\n",
    "p_s"
   ]
  },
  {
   "cell_type": "code",
   "execution_count": 105,
   "metadata": {},
   "outputs": [
    {
     "data": {
      "text/plain": [
       "605"
      ]
     },
     "execution_count": 105,
     "metadata": {},
     "output_type": "execute_result"
    }
   ],
   "source": [
    "N"
   ]
  },
  {
   "cell_type": "code",
   "execution_count": 106,
   "metadata": {},
   "outputs": [
    {
     "data": {
      "text/plain": [
       "[[3, 1, 2, 4, 6, 5, 7],\n",
       " [7, 6, 3, 5, 4, 2, 1],\n",
       " [3, 6, 4, 5, 2, 7, 1],\n",
       " [6, 2, 4, 7, 5, 3, 1]]"
      ]
     },
     "execution_count": 106,
     "metadata": {},
     "output_type": "execute_result"
    }
   ],
   "source": [
    "def select_survivors(population_sorted,best_sample,lucky_few,N):\n",
    "    next_generation = []\n",
    "    temp = copy.deepcopy(population_sorted)\n",
    "    for i in range(best_sample):\n",
    "        way, value= temp.pop(0)\n",
    "        if value<N:\n",
    "            next_generation.append(way)\n",
    "    for i in range(lucky_few):\n",
    "        way, value = temp.pop(0)\n",
    "        next_generation.append(way)\n",
    "    while len(next_generation) < best_sample + lucky_few:\n",
    "        next_generation.append(generate_1())\n",
    "#     next_generation.append(generate_1())\n",
    "    \n",
    "    random.shuffle(next_generation)\n",
    "    return next_generation\n",
    "survs = select_survivors(p_s,2,2,N)\n",
    "survs"
   ]
  },
  {
   "cell_type": "code",
   "execution_count": 120,
   "metadata": {},
   "outputs": [
    {
     "data": {
      "text/plain": [
       "[[3, 1, 2, 7, 6, 5, 4],\n",
       " [7, 6, 3, 1, 2, 4, 5],\n",
       " [3, 6, 4, 2, 7, 5, 1],\n",
       " [6, 2, 4, 3, 5, 7, 1]]"
      ]
     },
     "execution_count": 120,
     "metadata": {},
     "output_type": "execute_result"
    }
   ],
   "source": [
    "def create_child(p1,p2,check):\n",
    "    child = []\n",
    "    div_point = len(p1)//2\n",
    "    if check == True:\n",
    "        for i in range(div_point):\n",
    "            child.append(p1[i])\n",
    "        while(len(child)<7):\n",
    "            for x in p2:\n",
    "                if x not in child:\n",
    "                    child.append(x)\n",
    "    else:\n",
    "        for i in range(div_point):\n",
    "            child.append(p2[i])\n",
    "        while(len(child)<7):\n",
    "            for x in p1:\n",
    "                if x not in child:\n",
    "                    child.append(x)\n",
    "    return child\n",
    "\n",
    "def create_children(parents, n_child):\n",
    "    next_population = []\n",
    "    check = False\n",
    "    for i in range(0,len(parents),2):\n",
    "        for j in range(n_child):\n",
    "            check = not check\n",
    "            c = create_child(parents[i],parents[i+1],check)\n",
    "            next_population.append(c)\n",
    "    return next_population\n",
    "    \n",
    "\n",
    "children = create_children(survs,2)\n",
    "children\n",
    "    "
   ]
  },
  {
   "cell_type": "code",
   "execution_count": 112,
   "metadata": {},
   "outputs": [
    {
     "data": {
      "text/plain": [
       "[[6, 3, 1, 5, 2, 4, 7],\n",
       " [5, 2, 4, 6, 3, 1, 7],\n",
       " [1, 4, 7, 5, 6, 2, 3],\n",
       " [5, 6, 4, 1, 7, 3, 2],\n",
       " [6, 2, 5, 3, 1, 7, 4],\n",
       " [1, 2, 6, 4, 3, 7, 5],\n",
       " [5, 2, 7, 4, 3, 6, 1],\n",
       " [4, 2, 3, 5, 7, 6, 1],\n",
       " [4, 6, 7, 1, 3, 2, 5],\n",
       " [1, 4, 6, 5, 2, 3, 7]]"
      ]
     },
     "execution_count": 112,
     "metadata": {},
     "output_type": "execute_result"
    }
   ],
   "source": [
    "def mutate_route(route):\n",
    "    random.shuffle(route)\n",
    "    return route\n",
    "def mutate_population(population, chance_of_mutation):\n",
    "    for i in range(len(population)):\n",
    "        if random.random() * 100 < chance_of_mutation:\n",
    "            population[i] = mutate_route(population[i])\n",
    "    return population\n",
    "\n",
    "new_generation = mutate_population(children, 10)\n",
    "new_generation\n",
    "    "
   ]
  },
  {
   "cell_type": "code",
   "execution_count": 131,
   "metadata": {},
   "outputs": [
    {
     "name": "stdout",
     "output_type": "stream",
     "text": [
      "===== 1th Generation =====\n",
      "([4, 1, 7, 3, 5, 2, 6], 594)\n",
      "===== 2th Generation =====\n",
      "([4, 1, 7, 2, 6, 3, 5], 573)\n",
      "===== 3th Generation =====\n",
      "([5, 1, 7, 4, 6, 2, 3], 569)\n",
      "===== 4th Generation =====\n",
      "([4, 2, 5, 6, 3, 7, 1], 556)\n",
      "===== 5th Generation =====\n",
      "([5, 6, 4, 2, 1, 7, 3], 561)\n",
      "===== 6th Generation =====\n",
      "([3, 1, 5, 2, 6, 7, 4], 584)\n",
      "===== 7th Generation =====\n",
      "([3, 5, 4, 2, 6, 1, 7], 557)\n",
      "===== 8th Generation =====\n",
      "([7, 4, 5, 3, 1, 6, 2], 542)\n",
      "===== 9th Generation =====\n",
      "([3, 1, 5, 4, 7, 2, 6], 530)\n",
      "===== 10th Generation =====\n",
      "([3, 1, 5, 6, 4, 7, 2], 510)\n",
      "===== 11th Generation =====\n",
      "([3, 1, 5, 6, 2, 7, 4], 520)\n",
      "===== 12th Generation =====\n",
      "([2, 7, 4, 5, 6, 1, 3], 530)\n",
      "===== 13th Generation =====\n",
      "([2, 7, 4, 5, 6, 1, 3], 530)\n",
      "===== 14th Generation =====\n",
      "([6, 3, 1, 7, 4, 5, 2], 542)\n",
      "===== 15th Generation =====\n",
      "([6, 3, 1, 7, 2, 5, 4], 533)\n",
      "===== 16th Generation =====\n",
      "([2, 5, 3, 6, 1, 7, 4], 557)\n",
      "===== 17th Generation =====\n",
      "([2, 4, 5, 1, 6, 7, 3], 608)\n",
      "===== 18th Generation =====\n",
      "([6, 3, 1, 7, 2, 5, 4], 533)\n",
      "===== 19th Generation =====\n",
      "([6, 7, 3, 1, 5, 4, 2], 603)\n",
      "===== 20th Generation =====\n",
      "([3, 2, 7, 1, 5, 6, 4], 540)\n",
      "===== 21th Generation =====\n",
      "([5, 1, 3, 6, 4, 7, 2], 535)\n",
      "===== 22th Generation =====\n",
      "([2, 6, 1, 7, 4, 5, 3], 522)\n",
      "===== 23th Generation =====\n",
      "([1, 4, 7, 2, 6, 5, 3], 560)\n",
      "===== 24th Generation =====\n",
      "([2, 7, 4, 6, 5, 3, 1], 500)\n",
      "===== 25th Generation =====\n",
      "([2, 4, 6, 5, 1, 7, 3], 531)\n",
      "===== 26th Generation =====\n",
      "([4, 7, 2, 6, 5, 1, 3], 520)\n",
      "===== 27th Generation =====\n",
      "([2, 7, 4, 6, 1, 3, 5], 550)\n",
      "===== 28th Generation =====\n",
      "([2, 7, 4, 5, 1, 3, 6], 535)\n",
      "===== 29th Generation =====\n",
      "([2, 7, 4, 6, 1, 5, 3], 535)\n",
      "===== 30th Generation =====\n",
      "([2, 7, 4, 5, 1, 6, 3], 540)\n",
      "===== 31th Generation =====\n",
      "([4, 7, 2, 6, 5, 3, 1], 510)\n",
      "===== 32th Generation =====\n",
      "([2, 7, 4, 5, 1, 3, 6], 535)\n",
      "===== 33th Generation =====\n",
      "([1, 5, 4, 7, 2, 6, 3], 510)\n",
      "===== 34th Generation =====\n",
      "([4, 7, 2, 6, 1, 5, 3], 545)\n",
      "===== 35th Generation =====\n",
      "([2, 7, 4, 5, 3, 1, 6], 550)\n",
      "===== 36th Generation =====\n",
      "([2, 7, 4, 6, 1, 5, 3], 535)\n",
      "===== 37th Generation =====\n",
      "([4, 7, 2, 6, 1, 5, 3], 545)\n",
      "===== 38th Generation =====\n",
      "([2, 7, 4, 5, 6, 3, 1], 505)\n",
      "===== 39th Generation =====\n",
      "([2, 5, 6, 4, 7, 1, 3], 517)\n",
      "===== 40th Generation =====\n",
      "([4, 7, 2, 5, 6, 3, 1], 535)\n",
      "===== 41th Generation =====\n",
      "([2, 7, 4, 6, 1, 5, 3], 535)\n",
      "===== 42th Generation =====\n",
      "([4, 5, 3, 1, 7, 6, 2], 532)\n",
      "===== 43th Generation =====\n",
      "([2, 5, 6, 4, 7, 1, 3], 517)\n",
      "===== 44th Generation =====\n",
      "([1, 3, 6, 4, 5, 7, 2], 520)\n",
      "===== 45th Generation =====\n",
      "([1, 3, 6, 2, 5, 4, 7], 537)\n",
      "===== 46th Generation =====\n",
      "([4, 5, 3, 6, 1, 2, 7], 553)\n",
      "===== 47th Generation =====\n",
      "([4, 5, 3, 1, 6, 2, 7], 533)\n",
      "===== 48th Generation =====\n",
      "([2, 5, 3, 1, 6, 4, 7], 562)\n",
      "===== 49th Generation =====\n",
      "([4, 5, 3, 6, 1, 7, 2], 518)\n",
      "===== 50th Generation =====\n",
      "([1, 3, 6, 2, 5, 4, 7], 537)\n",
      "===== 51th Generation =====\n",
      "([1, 3, 5, 6, 4, 7, 2], 500)\n",
      "===== 52th Generation =====\n",
      "([5, 2, 7, 1, 3, 6, 4], 533)\n",
      "===== 53th Generation =====\n",
      "([7, 2, 6, 4, 5, 1, 3], 503)\n",
      "===== 54th Generation =====\n",
      "([4, 7, 1, 5, 2, 6, 3], 537)\n",
      "===== 55th Generation =====\n",
      "([7, 2, 6, 4, 5, 1, 3], 503)\n",
      "===== 56th Generation =====\n",
      "([1, 5, 7, 3, 6, 4, 2], 573)\n",
      "===== 57th Generation =====\n",
      "([7, 2, 1, 3, 5, 4, 6], 533)\n",
      "===== 58th Generation =====\n",
      "([3, 6, 4, 7, 1, 5, 2], 527)\n",
      "===== 59th Generation =====\n",
      "([7, 2, 1, 6, 3, 5, 4], 553)\n",
      "===== 60th Generation =====\n",
      "([6, 4, 7, 2, 1, 5, 3], 545)\n",
      "SUCCESS! The Shortest Ways is [3, 5, 4, 6, 2, 7, 1] 473\n"
     ]
    }
   ],
   "source": [
    "n_generation = 200\n",
    "population = 10\n",
    "best_sample = 5\n",
    "lucky_few = 5\n",
    "n_child = 2\n",
    "chance_of_mutation = 10\n",
    "min_dist = int(1e4)\n",
    "pop = generate_population(population)\n",
    "\n",
    "for g in range(n_generation):\n",
    "    pop_sorted, N = compute_performance(pop)\n",
    "    if int(pop_sorted[0][1]) < 480:\n",
    "        print('SUCCESS! The Shortest Ways is', pop_sorted[0][0],pop_sorted[0][1])\n",
    "        break\n",
    "    min_dist = min(N,min_dist)\n",
    "    survivors = select_survivors(pop_sorted,best_sample,lucky_few,min_dist)\n",
    "    children = create_children(survivors, n_child)\n",
    "    \n",
    "    new_generation = mutate_population(children,chance_of_mutation)\n",
    "    \n",
    "    pop = new_generation\n",
    "    \n",
    "    print('===== %sth Generation =====' % (g + 1))\n",
    "    print(pop_sorted[0])"
   ]
  },
  {
   "cell_type": "code",
   "execution_count": null,
   "metadata": {},
   "outputs": [],
   "source": []
  },
  {
   "cell_type": "code",
   "execution_count": null,
   "metadata": {},
   "outputs": [],
   "source": []
  },
  {
   "cell_type": "code",
   "execution_count": null,
   "metadata": {},
   "outputs": [],
   "source": []
  },
  {
   "cell_type": "code",
   "execution_count": null,
   "metadata": {},
   "outputs": [],
   "source": []
  }
 ],
 "metadata": {
  "kernelspec": {
   "display_name": "Python 3",
   "language": "python",
   "name": "python3"
  },
  "language_info": {
   "codemirror_mode": {
    "name": "ipython",
    "version": 3
   },
   "file_extension": ".py",
   "mimetype": "text/x-python",
   "name": "python",
   "nbconvert_exporter": "python",
   "pygments_lexer": "ipython3",
   "version": "3.7.3"
  }
 },
 "nbformat": 4,
 "nbformat_minor": 2
}
